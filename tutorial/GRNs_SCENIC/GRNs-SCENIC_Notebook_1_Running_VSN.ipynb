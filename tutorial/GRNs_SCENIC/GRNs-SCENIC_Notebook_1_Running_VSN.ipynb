{
 "cells": [
  {
   "cell_type": "markdown",
   "metadata": {},
   "source": [
    "# Inferring gene regulatory networks (GRNs) with SCENIC\n",
    "\n",
    "### Intro to SCENIC \n",
    "\n",
    "SCENIC is a tool to infer Gene Regulatory Networks and their associated cell states from **single-cell RNA-seq** data. \n",
    "\n",
    "A typical SCENIC workflow includes the following steps:\n",
    "\n",
    "0. Setting up your dataset\n",
    "\n",
    "Building the **gene regulatory network (GRN)**:\n",
    "\n",
    "1. Identify potential targets for each TF based on co-expression (\"co-expression modules\").\n",
    "\n",
    "    - Tool: GENIE3 or GRNBoost. \n",
    "\n",
    "\n",
    "2. Select potential direct-binding targets (\"regulons\") based on DNA-motif analysis \n",
    "    \n",
    "    - Tool: RcisTarget\n",
    "\n",
    "Identify **cell states** and their **regulators**:\n",
    "\n",
    "3. Analyzing the network activity in each individual cell\n",
    "\n",
    "    - Tool: AUCell\n",
    "    - Scoring regulons in the cells (calculate AUC)\n",
    "    - Optional: Convert the network activity into ON/OFF (binary activity matrix)\n",
    "\n",
    "4. Identify stable cell states based on their gene regulatory network activity (cell clustering) \n",
    "and exploring the results...\n",
    "\n",
    "   ![SCENIC.png](SCENIC.png)\n",
    "\n",
    "For more details on how and why SCENIC folows these steps, and some usage examples, you can check the original [paper](https://www.nature.com/articles/nmeth.4463).  \n",
    "\n",
    "To run SCENIC on a new dataset, we would recommend you to check the [requirements](https://rawcdn.githack.com/aertslab/SCENIC/66656c71f99000a67d3f25e8b811e18338ff8270/inst/doc/SCENIC_Setup.html) (for example, at the moment it is only available for mouse, human and fly). \n",
    "\n",
    "\n",
    "### Implementation: \n",
    "\n",
    "There are currently implementations of SCENIC in [R](https://github.com/aertslab/SCENIC/) and in [Python](https://github.com/aertslab/pySCENIC). For running it in batch  on multiple datasets, or on big datasets, we normally recommend to use **[VSN](https://github.com/vib-singlecell-nf/vsn-pipelines)** (a *Nextflow workflow*), which highly automates and simplifies the analysis, as explained in the [SCENIC protocol paper](https://doi.org/10.1038/s41596-020-0336-2) and [examples](https://github.com/aertslab/SCENICprotocol/). \n",
    "The output from VSN can be explored from either R or Python, and the web browser (SCope).\n",
    " \n",
    "In this workshop, we will run SCENIC using **VSN** (Notebook 1), and explore the output in **SCope and R** (Notebook 2):\n",
    "\n",
    "- Notebook 1: Running SCENIC (VSN: includes Steps 1-4)\n",
    "\n",
    "- Notebook 2: Exploring SCENIC's output (R)\n",
    "\n",
    "For advanced users who might want more details, modify the algorithm, or run only parts of it, detailed tutorials explaining each step in deatail are avilable in R (e.g. \n",
    "[step by step](https://rawcdn.githack.com/aertslab/SCENIC/6aed5ef0b0386a87982ba4cc7aa13db0444263a6/inst/doc/SCENIC_Running.html ) and explanation of source code for [regulons](https://github.com/aertslab/SCENIC/blob/master/vignettes/detailedStep_2_createRegulons.Rmd)).\n",
    "\n",
    "\n",
    "----\n",
    "\n",
    "*Where to find help:*\n",
    "\n",
    "When you are doing your own analysis, you will likely bump into problems. In that case: \n",
    "\n",
    "* **Read the error message**: most of the time they are self-explanatory\n",
    "* Check the **help page of the function** you're using (e.g. `?get_regulons`)\n",
    "* Google that error message: if it's not clear to you what the problem is, just Google it; scRNA-seq community is very active (e.g. on BioStars or on stackoverflow).\n",
    "* Find and follow the package [**tutorials**](https://github.com/aertslab/SCENIC) (in R they are called \"vignettes\"). \n"
   ]
  },
  {
   "cell_type": "markdown",
   "metadata": {},
   "source": [
    "##  Notebook 1: Running SCENIC\n",
    "\n",
    "### Running SCENIC through VSN\n",
    "\n",
    "This part of the workshop is based on the\n",
    "[VSN pipeline tutorial](https://vsn-pipelines-examples.readthedocs.io/en/latest/PBMC10k.html).\n",
    "\n",
    "For more complex examples, i.e. explaing gene filtering, see the SCENIC [protocol example](https://htmlpreview.github.io/?https://github.com/aertslab/SCENICprotocol/blob/master/notebooks/PBMC10k_SCENIC-protocol-CLI.html)"
   ]
  },
  {
   "cell_type": "markdown",
   "metadata": {},
   "source": [
    "#### Before starting..."
   ]
  },
  {
   "cell_type": "markdown",
   "metadata": {},
   "source": [
    "1. Check system requirements: VSN requires `Nextflow` and a container system (`Singularity` or `Docker`). VSN is run directly on a terminal.\n",
    "\n",
    "> Make sure to have matching versions. e.g. at the time of preparing this notebook: `VSN 0.24.0 -> Nextflow 20.04.1`\n",
    "and `VSN 0.25.0 -> Nextflow 20.10.1+`"
   ]
  },
  {
   "cell_type": "code",
   "execution_count": 1,
   "metadata": {},
   "outputs": [
    {
     "name": "stdout",
     "output_type": "stream",
     "text": [
      "mercredi 10 février 2021, 09:08:52 (UTC+0100)\n"
     ]
    }
   ],
   "source": [
    "date"
   ]
  },
  {
   "cell_type": "code",
   "execution_count": 2,
   "metadata": {},
   "outputs": [
    {
     "name": "stdout",
     "output_type": "stream",
     "text": [
      "\n",
      "      N E X T F L O W\n",
      "      version 20.10.0 build 5430\n",
      "      created 01-11-2020 15:14 UTC (16:14 CEST)\n",
      "      cite doi:10.1038/nbt.3820\n",
      "      http://nextflow.io\n",
      "\n"
     ]
    }
   ],
   "source": [
    "nextflow -version"
   ]
  },
  {
   "cell_type": "code",
   "execution_count": 3,
   "metadata": {},
   "outputs": [
    {
     "name": "stdout",
     "output_type": "stream",
     "text": [
      "3.7.1\n"
     ]
    }
   ],
   "source": [
    "singularity version "
   ]
  },
  {
   "cell_type": "markdown",
   "metadata": {},
   "source": [
    "Also make sure that LANG and LC_ALL environment variables have been set:"
   ]
  },
  {
   "cell_type": "code",
   "execution_count": 4,
   "metadata": {},
   "outputs": [
    {
     "name": "stdout",
     "output_type": "stream",
     "text": [
      "LANG=fr_FR.UTF-8\n",
      "LANGUAGE=\n",
      "LC_CTYPE=\"fr_FR.UTF-8\"\n",
      "LC_NUMERIC=\"fr_FR.UTF-8\"\n",
      "LC_TIME=\"fr_FR.UTF-8\"\n",
      "LC_COLLATE=\"fr_FR.UTF-8\"\n",
      "LC_MONETARY=\"fr_FR.UTF-8\"\n",
      "LC_MESSAGES=\"fr_FR.UTF-8\"\n",
      "LC_PAPER=\"fr_FR.UTF-8\"\n",
      "LC_NAME=\"fr_FR.UTF-8\"\n",
      "LC_ADDRESS=\"fr_FR.UTF-8\"\n",
      "LC_TELEPHONE=\"fr_FR.UTF-8\"\n",
      "LC_MEASUREMENT=\"fr_FR.UTF-8\"\n",
      "LC_IDENTIFICATION=\"fr_FR.UTF-8\"\n",
      "LC_ALL=\n"
     ]
    }
   ],
   "source": [
    "locale"
   ]
  },
  {
   "cell_type": "code",
   "execution_count": 5,
   "metadata": {},
   "outputs": [],
   "source": [
    "# If some are not set, you can set them to the default language for instance:\n",
    "export LANG=\"C\"\n",
    "export LC_ALL=\"C\""
   ]
  },
  {
   "cell_type": "markdown",
   "metadata": {},
   "source": [
    "2. Set your working directory:"
   ]
  },
  {
   "cell_type": "code",
   "execution_count": 6,
   "metadata": {},
   "outputs": [
    {
     "name": "stdout",
     "output_type": "stream",
     "text": [
      "/localtmp/saibar/Tutorial\n"
     ]
    }
   ],
   "source": [
    "pwd"
   ]
  },
  {
   "cell_type": "raw",
   "metadata": {},
   "source": [
    "# In case you aren't already there:\n",
    "mkdir -p /localtmp/<username>/Tutorial\n",
    "cd /localtmp/<username>/Tutorial"
   ]
  },
  {
   "cell_type": "code",
   "execution_count": 7,
   "metadata": {},
   "outputs": [],
   "source": [
    "mkdir -p SCENIC_pbmc\n",
    "cd SCENIC_pbmc"
   ]
  },
  {
   "cell_type": "code",
   "execution_count": 8,
   "metadata": {},
   "outputs": [
    {
     "name": "stdout",
     "output_type": "stream",
     "text": [
      "/localtmp/saibar/Tutorial/SCENIC_pbmc\n"
     ]
    }
   ],
   "source": [
    "pwd"
   ]
  },
  {
   "cell_type": "markdown",
   "metadata": {},
   "source": [
    "#### 1. Prepare dataset\n",
    "\n",
    "This tutorial analyzes a typical scRNA-seq dataset with a single run: **Blood cells (PBMC)** data available from the 10x Genomics support website. \n",
    "\n",
    "- The “Feature / cell matrix (filtered)” data can be downloaded from 10x Genomics website (It is the typical output from their pipeline, after running Cell Ranger)\n",
    "\n",
    "- This dataset includes **10k cells**. It would take approximately **2 hours** to run SCENIC on it with a HPC system using 15 processes. Therefore, in this tutorial we will not *run* the analysis. Instead, we will prepare the inputs, and in the second part of the tutorial, we will directly explore the .loom file that was produced as output from a previous run: `/genomic/ws_cell_dynamics/TP-SingleCellTranscriptomics/SCENIC_pbmc/`"
   ]
  },
  {
   "cell_type": "markdown",
   "metadata": {},
   "source": [
    "> A copy of the input data is kept in `{workdir}/data/SCENIC_pbmcpbmc10k_dataoutsfiltered_feature_bc_matrix` "
   ]
  },
  {
   "cell_type": "code",
   "execution_count": 9,
   "metadata": {},
   "outputs": [
    {
     "name": "stdout",
     "output_type": "stream",
     "text": [
      "--2021-02-10 09:08:58--  http://cf.10xgenomics.com/samples/cell-exp/3.0.0/pbmc_10k_v3/pbmc_10k_v3_filtered_feature_bc_matrix.tar.gz\n",
      "Resolving cf.10xgenomics.com (cf.10xgenomics.com)... 104.18.1.173, 104.18.0.173, 2606:4700::6812:ad, ...\n",
      "Connecting to cf.10xgenomics.com (cf.10xgenomics.com)|104.18.1.173|:80... connected.\n",
      "HTTP request sent, awaiting response... 301 Moved Permanently\n",
      "Location: https://cf.10xgenomics.com/samples/cell-exp/3.0.0/pbmc_10k_v3/pbmc_10k_v3_filtered_feature_bc_matrix.tar.gz [following]\n",
      "--2021-02-10 09:08:58--  https://cf.10xgenomics.com/samples/cell-exp/3.0.0/pbmc_10k_v3/pbmc_10k_v3_filtered_feature_bc_matrix.tar.gz\n",
      "Connecting to cf.10xgenomics.com (cf.10xgenomics.com)|104.18.1.173|:443... connected.\n",
      "HTTP request sent, awaiting response... 200 OK\n",
      "Length: 94334700 (90M) [application/x-tar]\n",
      "Saving to: 'pbmc_10k_v3_filtered_feature_bc_matrix.tar.gz.1'\n",
      "\n",
      "pbmc_10k_v3_filtere 100%[===================>]  89.96M  21.3MB/s    in 5.0s    \n",
      "\n",
      "2021-02-10 09:09:04 (18.0 MB/s) - 'pbmc_10k_v3_filtered_feature_bc_matrix.tar.gz.1' saved [94334700/94334700]\n",
      "\n"
     ]
    }
   ],
   "source": [
    "wget http://cf.10xgenomics.com/samples/cell-exp/3.0.0/pbmc_10k_v3/pbmc_10k_v3_filtered_feature_bc_matrix.tar.gz"
   ]
  },
  {
   "cell_type": "markdown",
   "metadata": {},
   "source": [
    "When using 10x data as an input, the pipeline assumes the files are in the typical Cell Ranger directory structure (`<datasetName>/outs/`). Therefore, we will extract the files into a folder following that naming scheme:"
   ]
  },
  {
   "cell_type": "code",
   "execution_count": 10,
   "metadata": {},
   "outputs": [
    {
     "name": "stdout",
     "output_type": "stream",
     "text": [
      "filtered_feature_bc_matrix/\n",
      "filtered_feature_bc_matrix/matrix.mtx.gz\n",
      "filtered_feature_bc_matrix/barcodes.tsv.gz\n",
      "filtered_feature_bc_matrix/features.tsv.gz\n"
     ]
    }
   ],
   "source": [
    "# Create directory structure:\n",
    "mkdir -p pbmc10k_data/outs/\n",
    "# Extract the file:\n",
    "tar xvf pbmc_10k_v3_filtered_feature_bc_matrix.tar.gz -C pbmc10k_data/outs/"
   ]
  },
  {
   "cell_type": "code",
   "execution_count": 11,
   "metadata": {},
   "outputs": [
    {
     "name": "stdout",
     "output_type": "stream",
     "text": [
      "pbmc10k_data\n",
      "`-- outs\n",
      "    `-- filtered_feature_bc_matrix\n",
      "        |-- barcodes.tsv.gz\n",
      "        |-- features.tsv.gz\n",
      "        `-- matrix.mtx.gz\n",
      "\n",
      "2 directories, 3 files\n"
     ]
    }
   ],
   "source": [
    "# See the resulting files:\n",
    "tree pbmc10k_data"
   ]
  },
  {
   "cell_type": "markdown",
   "metadata": {},
   "source": [
    "In the following step, when setting up the nextflow config file, the `tenx` input channel should point to the outs folder: `pwd + 'pbmc10k_data/outs'`"
   ]
  },
  {
   "cell_type": "markdown",
   "metadata": {},
   "source": [
    "#### 2. Setup the `VSN-pipelines` project\n",
    "\n",
    "First, pull the VSN repository in Nextflow. The `-r` flag can be used to specify the pipeline version to use:"
   ]
  },
  {
   "cell_type": "code",
   "execution_count": 12,
   "metadata": {},
   "outputs": [
    {
     "name": "stdout",
     "output_type": "stream",
     "text": [
      "Checking vib-singlecell-nf/vsn-pipelines ...\n",
      "done - revision: 721c42f889 [v0.25.0]\n"
     ]
    }
   ],
   "source": [
    "nextflow pull vib-singlecell-nf/vsn-pipelines -r v0.25.0"
   ]
  },
  {
   "cell_type": "markdown",
   "metadata": {},
   "source": [
    "Then, define the run **settings** (a.k.a. create the `config` file):\n",
    "\n",
    "- `-profile`: Determines the parameters to include in the config file. Select the pipelines/settings that will be used in this specific analysis (i.e. this argument is to avoid creating huge file with *all* possibilities for *all* VSN-pipelines).\n",
    "\n",
    "In this case, we have used:\n",
    "\n",
    "- `tenx`: defines the input data type\n",
    "- `single_sample_scenic`: creates the basic parameters for the `single_sample` and `scenic` workflows (see https://vsn-pipelines.readthedocs.io/en/latest/pipelines.html for the list of available pipelines and their options)\n",
    "- `scenic_use_cistarget_motifs` and `scenic_use_cistarget_track`: includes parameters to specify the location of the cistarget database files (modify their location in the config file)\n",
    "- `hg38`: specifies the genome\n",
    "- `singularity` (or `docker`): specifies container system to use to run the processes"
   ]
  },
  {
   "cell_type": "code",
   "execution_count": 13,
   "metadata": {},
   "outputs": [],
   "source": [
    "nextflow config vib-singlecell-nf/vsn-pipelines \\\n",
    "    -profile tenx,single_sample_scenic,scenic_use_cistarget_motifs,scenic_use_cistarget_tracks,hg38,singularity \\\n",
    "    > pbmc10k.vsn-pipelines.complete.config"
   ]
  },
  {
   "cell_type": "markdown",
   "metadata": {},
   "source": [
    "This will create the config file: `pbmc10k.vsn-pipelines.complete.config`\n",
    "\n",
    "Important variables to check/edit in the config file are:\n",
    "\n",
    "- `singularity.runOption` (or `docker.runOptions`): the correct volume mounts should be specified (requires the user home folder, and the location of the data).\n",
    "- `params.global.project_name` (optional): will control the naming of the output files.\n",
    "- `params.sc.scope.tree.level_${X}` (optional): controls the labeling of the loom file when uploaded to the SCope viewer.\n",
    "- `params.sc.scanpy.filter`\n",
    "- `params.sc.scanpy.feature_selection`\n",
    "- `params.sc.scanpy.clustering`\n",
    "- `compute_resources__`"
   ]
  },
  {
   "cell_type": "markdown",
   "metadata": {},
   "source": [
    "*Exercise:* \n",
    "Open the config file and edit the settings required to continue the tutorial, including: \n",
    "- the project name\n",
    "- `cellranger_mex = 'pbmc10k_data/outs/'`\n",
    "- In compute resources, anything that is set to over 20GB, lower it to what we have available: `memory = '20 GB'`\n",
    "\n",
    "For this tutorial, you might also need to modify: \n",
    "- `cacheDir = '/genomic/ws_cell_dynamics/TP-SingleCellTranscriptomics/SCENIC_pbmc/singularity_containers/'` in `singularity` section. This will avoid that we all connect to the singularity servers at the same time and are rejected.\n"
   ]
  },
  {
   "cell_type": "markdown",
   "metadata": {},
   "source": [
    "#### 3. Launch the run\n",
    "\n",
    "**First pass: Check filtering settings**\n",
    "\n",
    "While the overall goal is to run SCENIC, the VSN pipeline also includes preprocessing and filtering steps.\n",
    "Those filtering settings should be checked to confirm they are the appropriate for the given dataset.\n",
    "\n",
    "To save running time, it is possible and recommended to make a first pass running only those pre-processing steps  (determined by the argument `-entry single_sample`).\n",
    "i.e.:"
   ]
  },
  {
   "cell_type": "raw",
   "metadata": {},
   "source": [
    "nextflow -C pbmc10k.vsn-pipelines.complete.config \\\n",
    "    run vib-singlecell-nf/vsn-pipelines \\\n",
    "    -entry single_sample \\\n",
    "    -r v0.25.0\n",
    "    \n",
    "# Convert this field to \"code\" to run it. Note: it can take a few minutes to run."
   ]
  },
  {
   "cell_type": "markdown",
   "metadata": {},
   "source": [
    "> The argument `-entry` determines the pipeline that will be run. Note that it will ony be possible to run the pipelines added to the *config file* in the previous step. In this case 'single_sample_scenic' is equivalent to running 'single_sample' + SCENIC. See [VSN's readthedocs](\n",
    "https://vsn-pipelines.readthedocs.io/en/latest/pipelines.html) for the list and description of the different pipelines available."
   ]
  },
  {
   "cell_type": "markdown",
   "metadata": {},
   "source": [
    "The resulting **QC reports** will be located in `out/notebooks/intermediate/pbmc10k.SC_QC_filtering_report.htm` (as ipynb, and converted html file). \n",
    "\n",
    "If needed, the cell and gene filters can be updated by editing the config file. \n",
    "\n",
    "For example, the filters used by default are:\n",
    "\n",
    "```\n",
    "params {\n",
    "    sc {\n",
    "        scanpy {\n",
    "            filter = {\n",
    "                cellFilterMinNGenes = 200\n",
    "                cellFilterMaxNGenes = 4000\n",
    "                cellFilterMaxPercentMito = 0.15\n",
    "                geneFilterMinNCells = 3\n",
    "            }\n",
    "        }\n",
    "    }\n",
    "}\n",
    "```\n",
    "\n",
    "*Exercise:* Open the QC reports and have a look at the stats provided."
   ]
  },
  {
   "cell_type": "markdown",
   "metadata": {},
   "source": [
    "**Second pass: Run SCENIC**\n",
    "\n",
    "Once the cell and gene filters look fine, we can re-start the pipeline to run SCENIC (setting `-entry single_sample_scenic`). \n",
    "\n",
    "Using  the `-resum` option will continue running the pipeline, skipping already completed steps: In this case, applying the correct filtering parameters, and continue to the upcoming SCENIC steps."
   ]
  },
  {
   "cell_type": "raw",
   "metadata": {},
   "source": [
    "nextflow -C pbmc10k.vsn-pipelines.complete.config \\\n",
    "    run vib-singlecell-nf/vsn-pipelines \\\n",
    "    -entry single_sample_scenic \\\n",
    "     -r v0.25.0 \\\n",
    "    -resume\n",
    "    \n",
    "# Convert this field to \"code\" to run it. Note: it will probably take several hours."
   ]
  },
  {
   "cell_type": "markdown",
   "metadata": {},
   "source": [
    "Since we have not run VSN, you can copy or link the output to your own folder to explore the results:"
   ]
  },
  {
   "cell_type": "code",
   "execution_count": 14,
   "metadata": {},
   "outputs": [
    {
     "name": "stdout",
     "output_type": "stream",
     "text": [
      "/localtmp/saibar/Tutorial/SCENIC_pbmc\n"
     ]
    }
   ],
   "source": [
    "pwd"
   ]
  },
  {
   "cell_type": "code",
   "execution_count": 15,
   "metadata": {},
   "outputs": [],
   "source": [
    "cd ..\n",
    "ln -s /genomic/ws_cell_dynamics/TP-SingleCellTranscriptomics/SCENIC_pbmc/ ./SCENIC_pbmc_link # alternative path: /users/bioensei/aibar/Public/SCENIC_pbmc"
   ]
  },
  {
   "cell_type": "code",
   "execution_count": 16,
   "metadata": {},
   "outputs": [
    {
     "name": "stdout",
     "output_type": "stream",
     "text": [
      "total 13680\n",
      "-rw-r--r-- 1 aibar bioensei    19169 Feb 10 06:33 GRNs-SCENIC_Notebook_1_Running_VSN.ipynb\n",
      "-rw-r--r-- 1 aibar bioensei 13913542 Feb 10 09:08 GRNs-SCENIC_Notebook_2_Exploring_output.ipynb\n",
      "-rw-r--r-- 1 aibar bioensei    72155 Feb  9 18:49 SCENIC.png\n",
      "drwxr-xr-x 4 aibar bioensei      232 Feb 10 09:08 SCENIC_pbmc\n",
      "lrwxrwxrwx 1 aibar bioensei       67 Feb  9 20:23 SCENIC_pbmc_link -> /genomic/ws_cell_dynamics/TP-SingleCellTranscriptomics/SCENIC_pbmc/\n"
     ]
    }
   ],
   "source": [
    "ls -l "
   ]
  },
  {
   "cell_type": "code",
   "execution_count": 17,
   "metadata": {},
   "outputs": [
    {
     "name": "stdout",
     "output_type": "stream",
     "text": [
      "lrwxrwxrwx 1 aibar bioensei 67 Feb  9 20:23 SCENIC_pbmc_link -> /genomic/ws_cell_dynamics/TP-SingleCellTranscriptomics/SCENIC_pbmc/\n"
     ]
    }
   ],
   "source": [
    "ls -l SCENIC_pbmc_link"
   ]
  },
  {
   "cell_type": "code",
   "execution_count": 18,
   "metadata": {},
   "outputs": [],
   "source": [
    "cd SCENIC_pbmc_link"
   ]
  },
  {
   "cell_type": "markdown",
   "metadata": {},
   "source": [
    "#### Results & output\n",
    "\n",
    "The main SCENIC outputs (including regulons and cell projections based on regulon activity) are packaged into a **loom file**. The loom file also includes the results of the parallel expression analysis. \n",
    "\n",
    "- The loom file can be found at `out/loom/pbmc10k.SCENIC_SCope_output.loom`, and is ready to be uploaded to a [SCope](http://scope.aertslab.org/) session. \n",
    "The loom file from this example is also uploaded on [SCENIC protocol SCope session](https://scope.aertslab.org/#/Protocol_Cases/) (DSL2 > pbmc10k.SCENIC_SCope_output.loom).\n",
    "\n",
    "Other relevant output files include:\n",
    "\n",
    "- `out/scenic/pbmc10k_data/notebooks/SCENIC_report.html`: Notebook with an overview of the SCENIC workflow. The last heatmap (\"AUC Heatmap - Top 5 regulons from each cell type\"), provides an useful overview of the regulons in the cells.\n",
    "\n",
    "- `out/scenic/`: The other folders contain partial results from SCENIC pipeline, which can be useful for advanced users. For example, the **motif enrichment analysis** and **co-expression modules** (output of GRNBoost/GENIE3).\n",
    "\n",
    "- `out/data/pbmc10k.PBMC10k_DSL2.single_sample.output.h5a`: an anndata file generated by the **Scanpy** section of the pipeline, including the results of the expression analysis in addition to SCENIC(i.e. clustering based on highly variable genes).\n",
    "\n",
    "- The `work` folder contains temporary files to allow resuming the pipeline if needed. It can be deleted once the pipeline is finished.\n",
    "\n",
    "In the second Notebook, we will explore these outputs in SCope and R."
   ]
  },
  {
   "cell_type": "markdown",
   "metadata": {},
   "source": [
    "To see the list of files:"
   ]
  },
  {
   "cell_type": "code",
   "execution_count": 19,
   "metadata": {},
   "outputs": [
    {
     "name": "stdout",
     "output_type": "stream",
     "text": [
      "out\n",
      "|-- data\n",
      "|   |-- intermediate\n",
      "|   |   |-- pbmc10k_data.10x_PBMC.single_sample.final_output.h5ad -> /ddn1/vol1/staging/leuven/stg_00002/lcb/saibar/Projects/Tutorials/SCENIC_pbmc_10k_run2/work/34/43391af2c86d9fddfb1a066811bd8b/pbmc10k_data.10x_PBMC.single_sample.final_output.h5ad\n",
      "|   |   |-- pbmc10k_data.SCANPY.hvg_scaled_output.h5ad -> /ddn1/vol1/staging/leuven/stg_00002/lcb/saibar/Projects/Tutorials/SCENIC_pbmc_10k_run2/work/f1/b05a01f72c0a12948e2e1ea634c4fc/pbmc10k_data.SCANPY.hvg_scaled_output.h5ad\n",
      "|   |   |-- pbmc10k_data.SCANPY.normalized_output.h5ad -> /ddn1/vol1/staging/leuven/stg_00002/lcb/saibar/Projects/Tutorials/SCENIC_pbmc_10k_run2/work/a5/faef0533f92f97c028a8320daeca89/pbmc10k_data.SCANPY.normalized_output.h5ad\n",
      "|   |   |-- pbmc10k_data.SC__FILE_CONVERTER.h5ad -> /ddn1/vol1/staging/leuven/stg_00002/lcb/saibar/Projects/Tutorials/SCENIC_pbmc_10k_run2/work/1c/55672b3a98caa027b28907b000f1a3/pbmc10k_data.SC__FILE_CONVERTER.h5ad\n",
      "|   |   |-- pbmc10k_data.SC__H5AD_MERGE.h5ad -> /ddn1/vol1/staging/leuven/stg_00002/lcb/saibar/Projects/Tutorials/SCENIC_pbmc_10k_run2/work/8f/2c3c93c3b63b70da6baeac339a6528/pbmc10k_data.SC__H5AD_MERGE.h5ad\n",
      "|   |   |-- pbmc10k_data.SC__SCANPY__CELL_FILTER.h5ad -> /ddn1/vol1/staging/leuven/stg_00002/lcb/saibar/Projects/Tutorials/SCENIC_pbmc_10k_run2/work/e1/25e64b85975f38376eab98c6fcf40c/pbmc10k_data.SC__SCANPY__CELL_FILTER.h5ad\n",
      "|   |   |-- pbmc10k_data.SC__SCANPY__CLUSTERING.h5ad -> /ddn1/vol1/staging/leuven/stg_00002/lcb/saibar/Projects/Tutorials/SCENIC_pbmc_10k_run2/work/cf/38dc6c2a4e3828a792f857c37068f9/pbmc10k_data.SC__SCANPY__CLUSTERING.h5ad\n",
      "|   |   |-- pbmc10k_data.SC__SCANPY__COMPUTE_QC_STATS.h5ad -> /ddn1/vol1/staging/leuven/stg_00002/lcb/saibar/Projects/Tutorials/SCENIC_pbmc_10k_run2/work/ad/cd89fe9aa33102b21239f0c8a78585/pbmc10k_data.SC__SCANPY__COMPUTE_QC_STATS.h5ad\n",
      "|   |   |-- pbmc10k_data.SC__SCANPY__DATA_TRANSFORMATION.h5ad -> /ddn1/vol1/staging/leuven/stg_00002/lcb/saibar/Projects/Tutorials/SCENIC_pbmc_10k_run2/work/65/9cf2e2d8f6f6137de1dfe4f7e43ecf/pbmc10k_data.SC__SCANPY__DATA_TRANSFORMATION.h5ad\n",
      "|   |   |-- pbmc10k_data.SC__SCANPY__DIM_REDUCTION_PCA.h5ad -> /ddn1/vol1/staging/leuven/stg_00002/lcb/saibar/Projects/Tutorials/SCENIC_pbmc_10k_run2/work/ad/ba32eed5386a8c6c763be138833cc6/pbmc10k_data.SC__SCANPY__DIM_REDUCTION_PCA.h5ad\n",
      "|   |   |-- pbmc10k_data.SC__SCANPY__DIM_REDUCTION_TSNE.h5ad -> /ddn1/vol1/staging/leuven/stg_00002/lcb/saibar/Projects/Tutorials/SCENIC_pbmc_10k_run2/work/df/86ebd8243f4aa8ecb897f16a153f73/pbmc10k_data.SC__SCANPY__DIM_REDUCTION_TSNE.h5ad\n",
      "|   |   |-- pbmc10k_data.SC__SCANPY__DIM_REDUCTION_UMAP.h5ad -> /ddn1/vol1/staging/leuven/stg_00002/lcb/saibar/Projects/Tutorials/SCENIC_pbmc_10k_run2/work/b9/13723cd16631ae703afe9bd2d8a6b3/pbmc10k_data.SC__SCANPY__DIM_REDUCTION_UMAP.h5ad\n",
      "|   |   |-- pbmc10k_data.SC__SCANPY__FEATURE_SCALING.h5ad -> /ddn1/vol1/staging/leuven/stg_00002/lcb/saibar/Projects/Tutorials/SCENIC_pbmc_10k_run2/work/25/90ba2ef7ef2e237c827b27c6d9c30d/pbmc10k_data.SC__SCANPY__FEATURE_SCALING.h5ad\n",
      "|   |   |-- pbmc10k_data.SC__SCANPY__FIND_HIGHLY_VARIABLE_GENES.h5ad -> /ddn1/vol1/staging/leuven/stg_00002/lcb/saibar/Projects/Tutorials/SCENIC_pbmc_10k_run2/work/67/8f06133b5e2739ce366ae5aa0f3463/pbmc10k_data.SC__SCANPY__FIND_HIGHLY_VARIABLE_GENES.h5ad\n",
      "|   |   |-- pbmc10k_data.SC__SCANPY__GENE_FILTER.h5ad -> /ddn1/vol1/staging/leuven/stg_00002/lcb/saibar/Projects/Tutorials/SCENIC_pbmc_10k_run2/work/29/b150808d3b7739c8e2bdab8b12b0c9/pbmc10k_data.SC__SCANPY__GENE_FILTER.h5ad\n",
      "|   |   |-- pbmc10k_data.SC__SCANPY__MARKER_GENES.h5ad -> /ddn1/vol1/staging/leuven/stg_00002/lcb/saibar/Projects/Tutorials/SCENIC_pbmc_10k_run2/work/0e/22a9431ed464558ddeefbb27dee3e2/pbmc10k_data.SC__SCANPY__MARKER_GENES.h5ad\n",
      "|   |   |-- pbmc10k_data.SC__SCANPY__NORMALIZATION.h5ad -> /ddn1/vol1/staging/leuven/stg_00002/lcb/saibar/Projects/Tutorials/SCENIC_pbmc_10k_run2/work/66/f4a3696e83d9fe47d2cd8618e47ae2/pbmc10k_data.SC__SCANPY__NORMALIZATION.h5ad\n",
      "|   |   |-- pbmc10k_data.SC__SCANPY__SUBSET_HIGHLY_VARIABLE_GENES.h5ad -> /ddn1/vol1/staging/leuven/stg_00002/lcb/saibar/Projects/Tutorials/SCENIC_pbmc_10k_run2/work/dd/38959bc702c73334c90988e808c582/pbmc10k_data.SC__SCANPY__SUBSET_HIGHLY_VARIABLE_GENES.h5ad\n",
      "|   |   |-- pbmc10k_data.SINGLE_SAMPLE.h5ad -> /ddn1/vol1/staging/leuven/stg_00002/lcb/saibar/Projects/Tutorials/SCENIC_pbmc_10k_run2/work/f1/d7fe47742d1f719d7d07d784f0593c/pbmc10k_data.SINGLE_SAMPLE.h5ad\n",
      "|   |   |-- pbmc10k_data.SINGLE_SAMPLE.loom -> /ddn1/vol1/staging/leuven/stg_00002/lcb/saibar/Projects/Tutorials/SCENIC_pbmc_10k_run2/work/59/ce2057411012b3824438064d6ca0f4/pbmc10k_data.SINGLE_SAMPLE.loom\n",
      "|   |   |-- pbmc10k_data.SINGLE_SAMPLE_SCENIC.loom -> /ddn1/vol1/staging/leuven/stg_00002/lcb/saibar/Projects/Tutorials/SCENIC_pbmc_10k_run2/work/d6/51aee2be044ec606281ef3bcb70185/pbmc10k_data.SINGLE_SAMPLE_SCENIC.loom\n",
      "|   |   `-- pbmc10k_data.filtered.loom -> /ddn1/vol1/staging/leuven/stg_00002/lcb/saibar/Projects/Tutorials/SCENIC_pbmc_10k_run2/work/1a/c253187342768bf1cd8379f745bb0b/pbmc10k_data.filtered.loom\n",
      "|   |-- pbmc10k_data.SINGLE_SAMPLE.h5ad\n",
      "|   |-- pbmc10k_data.SINGLE_SAMPLE.loom\n",
      "|   |-- pbmc10k_data.SINGLE_SAMPLE_SCENIC.loom\n",
      "|   `-- scanpy\n",
      "|       |-- pbmc10k_data.SCANPY.hvg_scaled_output.h5ad\n",
      "|       `-- pbmc10k_data.SCANPY.normalized_output.h5ad\n",
      "|-- loom\n",
      "|   |-- pbmc10k_data.SCENIC_SCope_output.loom\n",
      "|   `-- pbmc10k_data.SCope_output.loom\n",
      "|-- nextflow_reports\n",
      "|   |-- execution_report.html\n",
      "|   |-- execution_report.html.1\n",
      "|   |-- execution_report.html.2\n",
      "|   |-- execution_timeline.html\n",
      "|   |-- execution_timeline.html.1\n",
      "|   |-- execution_timeline.html.2\n",
      "|   |-- execution_trace.txt\n",
      "|   |-- execution_trace.txt.1\n",
      "|   |-- execution_trace.txt.2\n",
      "|   `-- pipeline_dag.dot\n",
      "|-- notebooks\n",
      "|   |-- intermediate\n",
      "|   |   |-- pbmc10k_data.SC_QC_filtering_report.html\n",
      "|   |   |-- pbmc10k_data.SC_QC_filtering_report.ipynb\n",
      "|   |   |-- pbmc10k_data.SC_Scanpy_clustering_report.html\n",
      "|   |   |-- pbmc10k_data.SC_Scanpy_clustering_report.ipynb\n",
      "|   |   |-- pbmc10k_data.SC_Scanpy_dimensionality_reduction_report.html\n",
      "|   |   |-- pbmc10k_data.SC_Scanpy_dimensionality_reduction_report.ipynb\n",
      "|   |   |-- pbmc10k_data.SC_Scanpy_hvg_report.html\n",
      "|   |   |-- pbmc10k_data.SC_Scanpy_hvg_report.ipynb\n",
      "|   |   |-- pbmc10k_data.merged_report.html\n",
      "|   |   |-- pbmc10k_data.merged_report.ipynb\n",
      "|   |   `-- workflow_configuration_report.ipynb\n",
      "|   |-- pbmc10k_data.merged_report.html\n",
      "|   `-- pbmc10k_data.merged_report.ipynb\n",
      "`-- scenic\n",
      "    `-- pbmc10k_data\n",
      "        |-- SCENIC_SCope_output.loom -> /ddn1/vol1/staging/leuven/stg_00002/lcb/saibar/Projects/Tutorials/SCENIC_pbmc_10k_run2/work/95/3f8fcf28765206be3d791a0f3e8e5c/scenic_visualize.loom\n",
      "        |-- SCENIC_output.loom\n",
      "        |-- arboreto_with_multiprocessing\n",
      "        |   `-- pbmc10k_data__adj.tsv\n",
      "        |-- aucell\n",
      "        |   |-- pbmc10k_data.filtered.loom -> /ddn1/vol1/staging/leuven/stg_00002/lcb/saibar/Projects/Tutorials/SCENIC_pbmc_10k_run2/work/1a/c253187342768bf1cd8379f745bb0b/pbmc10k_data.filtered.loom\n",
      "        |   |-- pbmc10k_data__auc_mtf.loom\n",
      "        |   `-- pbmc10k_data__auc_trk.loom\n",
      "        |-- cistarget\n",
      "        |   |-- pbmc10k_data.filtered.loom -> /ddn1/vol1/staging/leuven/stg_00002/lcb/saibar/Projects/Tutorials/SCENIC_pbmc_10k_run2/work/1a/c253187342768bf1cd8379f745bb0b/pbmc10k_data.filtered.loom\n",
      "        |   |-- pbmc10k_data__reg_mtf.csv.gz\n",
      "        |   `-- pbmc10k_data__reg_trk.csv.gz\n",
      "        `-- notebooks\n",
      "            |-- SCENIC_report.html\n",
      "            `-- SCENIC_report.ipynb\n",
      "\n",
      "13 directories, 63 files\n"
     ]
    }
   ],
   "source": [
    "tree out"
   ]
  },
  {
   "cell_type": "code",
   "execution_count": null,
   "metadata": {},
   "outputs": [],
   "source": []
  }
 ],
 "metadata": {
  "kernelspec": {
   "display_name": "Bash",
   "language": "bash",
   "name": "bash"
  },
  "language_info": {
   "codemirror_mode": "shell",
   "file_extension": ".sh",
   "mimetype": "text/x-sh",
   "name": "bash"
  }
 },
 "nbformat": 4,
 "nbformat_minor": 4
}
