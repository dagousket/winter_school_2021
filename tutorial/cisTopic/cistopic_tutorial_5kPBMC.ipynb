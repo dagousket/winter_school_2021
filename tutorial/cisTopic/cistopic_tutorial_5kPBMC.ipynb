{
 "cells": [
  {
   "cell_type": "markdown",
   "metadata": {},
   "source": [
    "# cisTopic - Notebook 1\n",
    "\n",
    "cisTopic is an R/Bioconductor package for the simulataneous identification of cis-regulatory topics and cell states from single cell epigenomics data. cisTopic relies on an algorithm called Latent Dirichlet Allocation (LDA), a robust Bayesian method used in text mining to group documents addressing similar topics and related words into topics. Interestingly, this model has a series of assumptions that are fulfilled in single-cell epigenomics data, such as non-ordered features (‘bag of words’) and the allowance of overlapping topics (i.e. a regulatory region can be co-accessible with different other regions depending on the context, namely, the cell type or state).\n",
    "\n",
    "<img src=\"cistopic.png\" width=\"1000\"/>\n",
    "\n",
    "In this tutorial, we will use a publicly available [10X dataset](https://support.10xgenomics.com/single-cell-atac/datasets/1.0.1/atac_v1_pbmc_5k) on peripheral blood mononuclear cells (PBMCs), consisting of scATAC-seq data from 5335 cells. This data has been pre-processed using cellRanger to provide a **count matrix** where *rows* correspond to cell barcodes and *columns* correspond to ATAC-seq peak genomic regions. The count inside this sparse matrix correspond to the number of non-duplicated fragment present in each cell within each genomic region. In addition cellRanger provide a **metrics.csv** file, summarising *quality-check* measures on a per-cell basis. Importantly, this file include information on which cell barcodes have been considered as *real* cell to creat the count matrix.\n",
    "\n",
    "The analysis of this dataset will be decomposed into 5 parts :\n",
    "1. running the LDA algorithm on the raw count data\n",
    "2. analysing the cell-topic contribution matrix\n",
    "3. analysing the region-topic contribution matrix\n",
    "4. analysisng the region-cell predicitive matrix\n",
    "5. export to loom file\n",
    "\n",
    "<img src=\"cistopic_ws.001.png\" width=\"700\"/>\n"
   ]
  },
  {
   "cell_type": "markdown",
   "metadata": {},
   "source": [
    "## 1. Preparing working environment\n",
    "\n",
    "First, we will move to the correct work directory and load the necessary R libraries."
   ]
  },
  {
   "cell_type": "code",
   "execution_count": null,
   "metadata": {},
   "outputs": [],
   "source": [
    "# set working directory\n",
    "setwd(\"/localtmp/yourusername\")\n",
    "\n",
    "# load libraries \n",
    "library(cisTopic)\n",
    "library(Rtsne)\n",
    "library(umap)\n",
    "library(fastcluster)\n",
    "library(grid)\n",
    "library(plotly)\n",
    "library(ggplot2)\n",
    "library(scatterplot3d)\n",
    "library(ComplexHeatmap)\n",
    "library(repr)\n",
    "library(TxDb.Hsapiens.UCSC.hg19.knownGene)\n",
    "library(fitdistrplus)\n",
    "library(MASS)\n",
    "library(plyr)\n",
    "library(AUCell)\n",
    "library(SCopeLoomR)\n",
    "\n",
    "# Change plot size to 14 x 8, adjust if necessary\n",
    "options(repr.plot.width=14, repr.plot.height=8)"
   ]
  },
  {
   "cell_type": "markdown",
   "metadata": {},
   "source": [
    "Now that we have the tools loaded, we will load the PBMC dataset into cisTopic by providing the path to the following files :\n",
    "- the count matrix\n",
    "- the metrics csv file\n",
    "\n",
    "Note that you can also create a cisTopic object from an alignement file (BAM or fragment) and potential regulatory regions. In this case cisTopic will create the count matrix when loading the data."
   ]
  },
  {
   "cell_type": "code",
   "execution_count": null,
   "metadata": {},
   "outputs": [],
   "source": [
    "pathTo10X <- '/genomic/ws_cell_dynamics/TP-SingleCellTranscriptomics/'\n",
    "metrics <- paste0(pathTo10X, 'atac_v1_pbmc_5k_singlecell.csv')\n",
    "matrix <- paste0(pathTo10X, 'filtered_peak_bc_matrix')\n",
    "cisTopicObject <- createcisTopicObjectFrom10Xmatrix(matrix, metrics, project.name='5kPBMCs')"
   ]
  },
  {
   "cell_type": "markdown",
   "metadata": {},
   "source": [
    "We can have a look at the object structure :"
   ]
  },
  {
   "cell_type": "code",
   "execution_count": null,
   "metadata": {},
   "outputs": [],
   "source": [
    "cisTopicObject"
   ]
  },
  {
   "cell_type": "code",
   "execution_count": null,
   "metadata": {},
   "outputs": [],
   "source": [
    "str(cisTopicObject, max.level = 2)"
   ]
  },
  {
   "cell_type": "markdown",
   "metadata": {},
   "source": [
    "## 2. Building the models\n",
    "\n",
    "The next step in the cisTopic workflow is to use Latent Dirichlet Allocation (LDA) for the modelling of cis-regulatory topics. LDA allows to derive, from the original high-dimensional and sparse data, (1) the probability distributions over the topics for each cell in the data set and (2) the probability distributions over the regions for each topic (Blei et al., 2003). These distributions indicate, respectively, how important a regulatory topic is for a cell, and how important regions are for the regulatory topic. Here, we use WarpLDA (Chen et al, 2016), in which we assign regions to a certain topic by randomly sampling from a distribution where the probability of a region being assigned to a topic is proportional to the contributions of that region to the topic and the contributions of that topic in a cell, with delayed count update.\n",
    "\n",
    "To do this, `runWarpLDAModels()` builds several models (e.g. with diferent numbers of topics) using Latent Dirichlet Allocation (LDA) on the binary accessibility matrix (automatically stored in the initialized cisTopicObject). We can then select the best model using `selectModel()`.\n",
    "\n",
    "**Important** : The model building step (commented below) will not be run in this tutorial to limit computing time (with current dataset and parameters : 40 minutes). We will load a cisTopic object with already computed models to performed the following analyses."
   ]
  },
  {
   "cell_type": "code",
   "execution_count": null,
   "metadata": {},
   "outputs": [],
   "source": [
    "# To build models :\n",
    "#cisTopicObject <- runWarpLDAModels(cisTopicObject,\n",
    "#                                   topic=c(2, 5, 10:25, 30, 35, 40),\n",
    "#                                   seed=987,\n",
    "#                                   nCores=2,\n",
    "#                                   iterations = 500,\n",
    "#                                   addModels=FALSE)\n",
    "\n",
    "# To load pre-computed models :\n",
    "cisTopicObject <- readRDS(paste0(pathTo10X, 'WarpLDA_cisTopicObject_pbmc.Rds'))"
   ]
  },
  {
   "cell_type": "markdown",
   "metadata": {},
   "source": [
    "The main parameter for running the models (`runWarpLDAModels`) is the **number of topics** (`topic`): The number of topics are usually slightly bigger than the potential cell states in the data set. In this tutorial, we will test models with 2, 5, 10 to 25, 30, 35, 40 topics.\n",
    "\n",
    "Note that other important parameters in this function can be adjusted : The Dirichlet hyperparameters `alpha` (topic proportions) and `beta` (topic multinomials). "
   ]
  },
  {
   "cell_type": "code",
   "execution_count": null,
   "metadata": {},
   "outputs": [],
   "source": [
    "cisTopicObject"
   ]
  },
  {
   "cell_type": "markdown",
   "metadata": {},
   "source": [
    "## 3. Selection of the best model\n",
    "\n",
    "cisTopic selects the best model based on three different approaches :\n",
    "- The *log likelihood* can be used to estimate the plausibility of a model parameter value, given the observed data (i.e. the highest the likelihood, the better the model). This is not recommended when running WarpLDA, as the curves stabilize rather than reaching a maximum.\n",
    "\n",
    "- The *second derivative* in each point of the likelihood curve, as it measures the changed in the curvature from point to point (i.e. the highest the second derivative means that the next model is not improving much more the log-likelihood) . This is not recommended when running CGS, as the curves tend to be noisier or reach a maximum. This is the default in this version of cisTopic.\n",
    "\n",
    "- The *perplexity* of each model (only for WarpLDA models) measures how well the model predicts the sample. The lower the perplexity is, the better the model.\n",
    "\n",
    "To perform model selection, we use the fonction `selectModel()`. By default, this function use the **second derivative** selection."
   ]
  },
  {
   "cell_type": "code",
   "execution_count": null,
   "metadata": {},
   "outputs": [],
   "source": [
    "par(mfrow = c(1,3))\n",
    "\n",
    "cisTopicObject <- selectModel(cisTopicObject, type='derivative')"
   ]
  },
  {
   "cell_type": "markdown",
   "metadata": {},
   "source": [
    "Having the model selected, the LDA returns two distributions matrix recording topic assignments to cells and topic assignments to regions :\n",
    "\n",
    "- the **topic contributions per cell** : matrix with *cells* as columns, topics as rows and contributions as values.\n",
    "\n",
    "- the **region contribution to a topic** : matrix with *regions* as columns, topics as rows and contributions as values.\n",
    "\n",
    "We can interpret these values as a dimensinality reduction method, after which the data is re-represented as a lower-dimentions matrix."
   ]
  },
  {
   "cell_type": "markdown",
   "metadata": {},
   "source": [
    "## 4. Interpreting the models\n",
    "#### a. Analysis of the topic-cell contribution\n",
    "\n",
    "Different methods can be used for clustering and/or visualization based on the LDA output. The most common ones are UMAP and t-SNE. Here, we will use the **topic contributions per cell matrix** (`target='cell'`) to compute UMAP and t-SNE. The results are saved in the slot `cisTopicObject@dr$cell`."
   ]
  },
  {
   "cell_type": "code",
   "execution_count": null,
   "metadata": {},
   "outputs": [],
   "source": [
    "cisTopicObject <- runtSNE(cisTopicObject, target='cell', seed=123, pca=FALSE, method='Probability')\n",
    "cisTopicObject <- runUmap(cisTopicObject, target='cell', seed=123, method='Probability')"
   ]
  },
  {
   "cell_type": "markdown",
   "metadata": {},
   "source": [
    "The UMAP and t-SNE each provide a new 2-D embedding of the cells"
   ]
  },
  {
   "cell_type": "code",
   "execution_count": null,
   "metadata": {},
   "outputs": [],
   "source": [
    "dim(cisTopicObject@dr$cell$Umap)"
   ]
  },
  {
   "cell_type": "markdown",
   "metadata": {},
   "source": [
    "Once calculations are done, cisTopic offers a unified visualization function (`plotFeatures`), which allows to visualize tSNE, Umap, diffussion maps, principal components and biplots (in 2/3D), colored by metadata (e.g. from 10X metrics file) and/or topic enrichment."
   ]
  },
  {
   "cell_type": "code",
   "execution_count": null,
   "metadata": {},
   "outputs": [],
   "source": [
    "par(mfrow=c(1,2))\n",
    "\n",
    "plotFeatures(cisTopicObject,\n",
    "             method='Umap',\n",
    "             target='cell',\n",
    "             topic_contr=NULL,\n",
    "             colorBy=c('nCounts', 'nAcc'),\n",
    "             cex.legend = 0.8,\n",
    "             factor.max=.75,\n",
    "             dim=2,\n",
    "             legend=TRUE,\n",
    "             col.low='darkgreen',\n",
    "             col.mid='yellow',\n",
    "             col.high='brown1',\n",
    "             intervals=10)"
   ]
  },
  {
   "cell_type": "markdown",
   "metadata": {},
   "source": [
    "We can also generate a heatmap based on the **topic contributions per cell matrix**."
   ]
  },
  {
   "cell_type": "code",
   "execution_count": null,
   "metadata": {},
   "outputs": [],
   "source": [
    "cellTopicHeatmap(cisTopicObject,\n",
    "                 method='Z-score',\n",
    "                 colorBy=c('densityClust'),\n",
    "                 col.low = \"dodgerblue\",\n",
    "                 col.mid = \"floralwhite\",\n",
    "                 col.high = \"brown1\",\n",
    "                 use_raster = TRUE)"
   ]
  },
  {
   "cell_type": "markdown",
   "metadata": {},
   "source": [
    "As topic represents specific chromatin accessibility programs governing cell types, it is interesting to color the Umap by topic score."
   ]
  },
  {
   "cell_type": "code",
   "execution_count": null,
   "metadata": {},
   "outputs": [],
   "source": [
    "par(mfrow=c(2,4))\n",
    "\n",
    "plotFeatures(cisTopicObject,\n",
    "             method='Umap',\n",
    "             target='cell',\n",
    "             topic_contr='Probability',\n",
    "             colorBy=NULL,\n",
    "             cex.legend = 0.8,\n",
    "             factor.max=.75,\n",
    "             dim=2,\n",
    "             legend=TRUE)"
   ]
  },
  {
   "cell_type": "markdown",
   "metadata": {},
   "source": [
    "#### b. Analysis of the topic-regions contribution\n",
    "\n",
    "Similarly to the topic-cell visualisation, we can take advantage of the **topic contributions per region matrix** to visualise the accessible genomic regions into t-SNE and UMAP embedding. As this matrix tends to be relatively large and noisy, we will perform severeal pre-processing steps to extract the relevant, high-confidence signal.\n",
    "\n",
    "To analyze the regions included in the cisTopics, the first step is always to derive a score that evaluates how likely is for a region to belong to a topic. `getRegionsScores()` calculates these scores based on the *proportion of region specific assignments to a topic*. These scores can be rescaled into the range [0,1], which will be useful for the binarization step (see `GammaFit` method). This information is stored in the `region.data` slot of the cisTopicObject."
   ]
  },
  {
   "cell_type": "code",
   "execution_count": null,
   "metadata": {},
   "outputs": [],
   "source": [
    "cisTopicObject <- getRegionsScores(cisTopicObject,\n",
    "                                   method='NormTop',\n",
    "                                   scale=TRUE)"
   ]
  },
  {
   "cell_type": "markdown",
   "metadata": {},
   "source": [
    "BigWig files for observing the scored regions in the genome can be generated. Note that information on the length of the chromosomes has to be provided. These files can be uploaded in IGV or UCSC for visualisation. This information can be easily found in the TxDb objects of the corresponding genomes, for example."
   ]
  },
  {
   "cell_type": "code",
   "execution_count": null,
   "metadata": {},
   "outputs": [],
   "source": [
    "# load genome info\n",
    "txdb <- TxDb.Hsapiens.UCSC.hg19.knownGene\n",
    "\n",
    "# Create BigWig file in specific output directory\n",
    "bigwig_file_list <- getBigwigFiles(cisTopicObject, path='cisTopics_asBW', seqlengths=seqlengths(txdb))"
   ]
  },
  {
   "cell_type": "markdown",
   "metadata": {},
   "source": [
    "However, many tools are limited to work with *sets* of regions rather than *rankings* of regions. To select a representative regions set that most contribute to a topic, we use `binarizecisTopics()` to select the top regions. This tool is based on two methods:\n",
    "- `method = \"Predefined\"` : to select a predefined number of regions (determined by the cutoffs argument)\n",
    "- `method = \"GammaFit\"` (default) : to automatically select a threshold based on a fit of the scores to a gamma distribution. This is recommended when using `method=\"NormTop\" , scale=TRUE` in `getRegionScores()`. Note that the probability threshold must be provided by the user and it must be taken after the density (based on the fitted gamma distribution) is stabilised (i.e. in the tail of the distribution)."
   ]
  },
  {
   "cell_type": "code",
   "execution_count": null,
   "metadata": {},
   "outputs": [],
   "source": [
    "par(mfrow=c(2,5))\n",
    "cisTopicObject <- binarizecisTopics(cisTopicObject,\n",
    "                                    thrP=0.975, # probability threshold\n",
    "                                    plot=TRUE)"
   ]
  },
  {
   "cell_type": "markdown",
   "metadata": {},
   "source": [
    "Simiarly to the cell-topic visualisation from previous section, we can take advantage of the **topic score per regions matrix** for clustering and/or visualization. To compute a t-SNE or UMPA embedding in the case of regions, only high confidence regions (i.e. that pass the binarization threshold at least in 1 topic) are used. The results are saved in the slot `cisTopicObject@dr$region`. We use the same `runtSNE()` function as for cell-based embedding, but specifying `target='region'`."
   ]
  },
  {
   "cell_type": "code",
   "execution_count": null,
   "metadata": {},
   "outputs": [],
   "source": [
    "cisTopicObject <- runtSNE(cisTopicObject, target='region', perplexity=200, check_duplicates=FALSE)"
   ]
  },
  {
   "cell_type": "code",
   "execution_count": null,
   "metadata": {},
   "outputs": [],
   "source": [
    "dim(cisTopicObject@dr$region$tSNE)"
   ]
  },
  {
   "cell_type": "markdown",
   "metadata": {},
   "source": [
    "Like for cell-based mapping, we can use the `plotFeature()` function to visualise the region-based embedding. Here, we will plot the t-SNE embedding and color the region by their contribution to each topic."
   ]
  },
  {
   "cell_type": "code",
   "execution_count": null,
   "metadata": {},
   "outputs": [],
   "source": [
    "par(mfrow=c(2,5))\n",
    "\n",
    "plotFeatures(cisTopicObject,\n",
    "             method='tSNE',\n",
    "             target='region',\n",
    "             topic_contr='Z-score',\n",
    "             colorBy=NULL,\n",
    "             cex.legend = 0.8,\n",
    "             factor.max=.75,\n",
    "             dim=2,\n",
    "             legend=TRUE,\n",
    "             col.low='darkgreen',\n",
    "             col.mid='yellow',\n",
    "             col.high='brown1')"
   ]
  },
  {
   "cell_type": "markdown",
   "metadata": {},
   "source": [
    "## 5. Extracting biological signature from the models\n",
    "\n",
    "#### a. (Transcription factor) motif enrichment in topics\n",
    "\n",
    "It is also possible to identify enriched motifs within the set of regions associated to each topic. To do this, we use **RcisTarget** (Aibar *et al.*, 2017). The current version provides databases for human (hg19). You can find the region-based database at: https://resources.aertslab.org/cistarget/\n",
    "\n",
    "For this analysis, we first need to convert the binarized cisTopic regions to the regions in the databases (“ctx regions”). To do so, we convert the binarised topic regions to a set of equivalent ctx regions based on their *relative overlap* in genomic positions (a region can map to more than one ctx region)."
   ]
  },
  {
   "cell_type": "code",
   "execution_count": null,
   "metadata": {},
   "outputs": [],
   "source": [
    "cisTopicObject <- binarizedcisTopicsToCtx(cisTopicObject, genome='hg19')"
   ]
  },
  {
   "cell_type": "markdown",
   "metadata": {},
   "source": [
    "We are now ready to run **RcisTarget** in each topic using the wrapper function `topicsRcisTarget()`. This function uses the binarised topic regions converted to ctx regions to score enrichment in transcription factor binding motif for each topic. For the sake of time, we will not run this command in this tutorial but use the pre-computed results available in the cisTopicObject."
   ]
  },
  {
   "cell_type": "code",
   "execution_count": null,
   "metadata": {},
   "outputs": [],
   "source": [
    "# To run RcisTarget on the ctx-converted topics\n",
    "#pathToFeather <- \"/staging/leuven/res_00001/databases/cistarget/databases/homo_sapiens/hg19/refseq_r45/mc8nr/region_based/hg19-regions-9species.all_regions.mc8nr.feather\"\n",
    "#cisTopicObject <- topicsRcisTarget(cisTopicObject, genome='hg19', pathToFeather, reduced_database=FALSE, nesThreshold=3, rocthr=0.005, maxRank=20000, nCores=5)"
   ]
  },
  {
   "cell_type": "markdown",
   "metadata": {},
   "source": [
    "Once RcisTarget is run, the enrichment results are stored in the `cisTopicObject@binarized.RcisTarget` slot. The interactive motif enrichment tables can be explored (e.g. per topic) using the **DT** package:"
   ]
  },
  {
   "cell_type": "code",
   "execution_count": null,
   "metadata": {},
   "outputs": [],
   "source": [
    "Topic6_motif_enr <- cisTopicObject@binarized.RcisTarget[[6]]\n",
    "DT::datatable(Topic6_motif_enr[,-c(\"enrichedRegions\", \"TF_lowConf\"), with=FALSE], escape = FALSE, filter=\"top\", options=list(pageLength=5))"
   ]
  },
  {
   "cell_type": "code",
   "execution_count": null,
   "metadata": {},
   "outputs": [],
   "source": [
    "Topic10_motif_enr <- cisTopicObject@binarized.RcisTarget[[10]]\n",
    "DT::datatable(Topic10_motif_enr[,-c(\"enrichedRegions\", \"TF_lowConf\"), with=FALSE], escape = FALSE, filter=\"top\", options=list(pageLength=5))"
   ]
  },
  {
   "cell_type": "markdown",
   "metadata": {},
   "source": [
    "We find SPI1 and CEBPB as master regulators, for example, of the topics 6 and 10, respectively."
   ]
  },
  {
   "cell_type": "markdown",
   "metadata": {},
   "source": [
    "\n",
    "#### b. Identification of cell types using the predictive cell-region distribution\n",
    "\n",
    "By multiplying the cell-topic and region-topic contribution matrices, we can compute the likelihood of each region in each cell (i.e. **predictive distribution**). This matrix is stored in the `cisTopicObject@predictive.distribution` slot. These distributions can be used to estimate drop-outs and build cell-specific region rankings that can be used with AUCell for estimating the enrichment of epigenomic signatures within the cells."
   ]
  },
  {
   "cell_type": "code",
   "execution_count": null,
   "metadata": {},
   "outputs": [],
   "source": [
    "pred.matrix <- predictiveDistribution(cisTopicObject)\n",
    "\n",
    "# Get matrix dimensions\n",
    "dim(pred.matrix)"
   ]
  },
  {
   "cell_type": "markdown",
   "metadata": {},
   "source": [
    "With this preditctive distribution, we can evaluate which cells are more enriched for certain **ChIP-seq signatures** :\n",
    "\n",
    "First, epigenomic regions are *intersected and mapped* to regions in the dataset (by default, with at least 40% overlap) using the function `getSignaturesRegions()`.\n",
    "\n",
    "In this tutorial, we will use bulk ChIP-seq signatures from the hematopoietic system from Corces *et al.* (2016)."
   ]
  },
  {
   "cell_type": "code",
   "execution_count": null,
   "metadata": {},
   "outputs": [],
   "source": [
    "# Setup ChIP-seq signature file path\n",
    "untar(paste0(pathTo10X, \"BulkPeaks.tar.gz\"),\n",
    "     exdir = \".\")\n",
    "path_to_signatures <- \"/localtmp/yourusername/BulkPeaks/\"\n",
    "Bulk_ATAC_signatures <- paste(path_to_signatures, list.files(path_to_signatures, pattern = \"*narrowPeak\"), sep='')\n",
    "labels  <- gsub('._peaks.narrowPeak', '', list.files(path_to_signatures, pattern = \"*narrowPeak\"))\n",
    "labels"
   ]
  },
  {
   "cell_type": "code",
   "execution_count": null,
   "metadata": {},
   "outputs": [],
   "source": [
    "# Reset signatures slot in the cisTopicObject\n",
    "cisTopicObject@signatures <- list()\n",
    "\n",
    "# Intersect signatures with regions\n",
    "cisTopicObject <- getSignaturesRegions(cisTopicObject, Bulk_ATAC_signatures, labels=labels, minOverlap = 0.4)"
   ]
  },
  {
   "cell_type": "code",
   "execution_count": null,
   "metadata": {},
   "outputs": [],
   "source": [
    "# To only keep unique peaks per signature\n",
    "cisTopicObject@signatures <- llply(1:length(cisTopicObject@signatures),\n",
    "                                   function (i) cisTopicObject@signatures[[i]][-which(cisTopicObject@signatures[[i]] %in% unlist(as.vector(cisTopicObject@signatures[-i])))]) \n",
    "names(cisTopicObject@signatures) <- labels"
   ]
  },
  {
   "cell_type": "markdown",
   "metadata": {},
   "source": [
    "To test the enrichment of these signatures in each cell, we use a **GSEA-like** recovery curve ranking-based approach.\n",
    "\n",
    "In each cell, regions are ranked based on their probability (x-axis), and when a region is present in the signature we increase one step in the y-axis. The **Area Under the Curve (AUC)** is used to evaluate the importance of that signature within that cell."
   ]
  },
  {
   "cell_type": "code",
   "execution_count": null,
   "metadata": {},
   "outputs": [],
   "source": [
    "# Compute cell rankings\n",
    "aucellRankings <- AUCell_buildRankings(pred.matrix, plot=FALSE, verbose=FALSE)"
   ]
  },
  {
   "cell_type": "code",
   "execution_count": null,
   "metadata": {},
   "outputs": [],
   "source": [
    "# AUCell results are quite large\n",
    "sl <- object.size(aucellRankings)\n",
    "print(sl, units = \"Mb\")"
   ]
  },
  {
   "cell_type": "markdown",
   "metadata": {},
   "source": [
    "The final signature enrichment analysis is done in CisTopic with the function `signatureCellEnrichment()`. The ChIP-overlapping region sets (which are stored in `cisTopicObject@signatures`) are used as input, together with the cell-specific region rankings. AUC values for each specific signature are stored in `cisTopicObject@cell.data`."
   ]
  },
  {
   "cell_type": "code",
   "execution_count": null,
   "metadata": {},
   "outputs": [],
   "source": [
    "# Check signature enrichment in cells\n",
    "cisTopicObject <- signatureCellEnrichment(cisTopicObject,\n",
    "                                          aucellRankings,\n",
    "                                          selected.signatures='all',\n",
    "                                          aucMaxRank = 0.3*nrow(aucellRankings),\n",
    "                                          plot=FALSE)"
   ]
  },
  {
   "cell_type": "markdown",
   "metadata": {},
   "source": [
    "Running the `signatureCellEnrichment()` function adds new metadata into the cisTopicObject named `labels`. This metrics correspond to the score of ChIP-seq derived signature for each cell in the dataset. We can visualize this score in the cell-based UMAP embedding with the `plotFeature()` function and using `colorBy=labels`."
   ]
  },
  {
   "cell_type": "code",
   "execution_count": null,
   "metadata": {},
   "outputs": [],
   "source": [
    "# Plot\n",
    "par(mfrow=c(1,3))\n",
    "\n",
    "plotFeatures(cisTopicObject,\n",
    "             method='Umap',\n",
    "             target='cell',\n",
    "             topic_contr=NULL,\n",
    "             colorBy=labels,\n",
    "             cex.legend = 0.4,\n",
    "             factor.max=.75,\n",
    "             dim=2,\n",
    "             legend=TRUE,\n",
    "             intervals=10)"
   ]
  },
  {
   "cell_type": "markdown",
   "metadata": {},
   "source": [
    "## 5. Exporting results to loom file\n",
    "\n",
    "Now that we have processed our PBMC data using cisTopic, we can save the cisTopic object as a RDS object using the `saveRDS()`. Additionally, we can export the results into a loom file for visualisation into [SCope](https://scope.aertslab.org) using the `SCopeLoomR` package.\n",
    "\n",
    "Here, we will save the cell-based t-SNE and UMAP embedding as well as the predictive distribution matrix. We mulpliply region-cells probabilities before exporting to reduce its sparsity (values are rounded to integer). Here, to limit the size of the output loom file, we will multiply by a relatively small value (10^2)."
   ]
  },
  {
   "cell_type": "code",
   "execution_count": null,
   "metadata": {},
   "outputs": [],
   "source": [
    "# Prepare prediction matrix\n",
    "pred.matrix <- round(pred.matrix*10^2)"
   ]
  },
  {
   "cell_type": "code",
   "execution_count": null,
   "metadata": {},
   "outputs": [],
   "source": [
    "# Prepare embedding\n",
    "default.tsne <- cisTopicObject@dr$cell$tSNE\n",
    "default.tsne.name <- \"t-SNE on cell-topics contribution matrix\"\n",
    "head(default.tsne)\n",
    "\n",
    "default.umap <- cisTopicObject@dr$cell$Umap\n",
    "default.umap.name <- \"UMAP on cell-topics contribution matrix\"\n",
    "head(default.umap)\n",
    "\n",
    "# Prepare metadata (Cell type signature and Topic contribution)\n",
    "cell.topic.mat <- t(modelMatSelection(cisTopicObject,\n",
    "                  target = \"cell\",\n",
    "                  method = \"Z-score\"))\n",
    "meta.data <- cbind(cisTopicObject@cell.data, cell.topic.mat)"
   ]
  },
  {
   "cell_type": "code",
   "execution_count": null,
   "metadata": {},
   "outputs": [],
   "source": [
    "# Build minimal loom\n",
    "file.name <- \"cistopic_5k_pbmc.loom\"\n",
    "\n",
    "build_loom(\n",
    "  file.name=file.name,\n",
    "  dgem=pred.matrix,\n",
    "  title=\"10X scATAC-seq of 5k PBMCs\",\n",
    "  genome=\"Human\",\n",
    "  default.embedding=default.tsne,\n",
    "  default.embedding.name=default.tsne.name\n",
    ")"
   ]
  },
  {
   "cell_type": "code",
   "execution_count": null,
   "metadata": {},
   "outputs": [],
   "source": [
    "# Open loom in writting mode\n",
    "loom <- open_loom(file.name, mode = \"r+\")\n",
    "\n",
    "# Add hierarchy\n",
    "add_hierarchy(loom = loom,\n",
    "              hierarchy = create_hierarchy(level.1.name = \"Human\",\n",
    "                                           level.2.name = \"PBMC\",\n",
    "                                           level.3.name = \"scATAC\"))\n",
    "\n",
    "# Add embedding\n",
    "add_embedding(loom=loom,\n",
    "              embedding=default.umap,\n",
    "              name=default.umap.name)\n",
    "\n",
    "# Add numerical metadata\n",
    "for (i in c(labels, paste0(\"Topic\", 1:25), \"nCounts\", \"nAcc\")){\n",
    "    print(paste(\"Adding info for\",i))\n",
    "    add_col_attr(loom=loom, key = i,\n",
    "             value=meta.data[,i],\n",
    "             as.metric = T)\n",
    "}\n",
    "\n",
    "# Close connection to loom file\n",
    "close_loom(loom)"
   ]
  },
  {
   "cell_type": "markdown",
   "metadata": {},
   "source": [
    "Now that your loom file is ready, you can upload it to SCope and explore it.\n",
    "A loom file created from the same analysis and exported with lower sparsity (matrix multiplied by 10^6) is available for exploration in a [pre-loaded SCope session](https://scope.aertslab.org/#/qlife_winter_school/*/welcome)."
   ]
  },
  {
   "cell_type": "markdown",
   "metadata": {},
   "source": [
    "You're all set now :)"
   ]
  }
 ],
 "metadata": {
  "kernelspec": {
   "display_name": "R",
   "language": "R",
   "name": "ir"
  },
  "language_info": {
   "codemirror_mode": "r",
   "file_extension": ".r",
   "mimetype": "text/x-r-source",
   "name": "R",
   "pygments_lexer": "r",
   "version": "4.0.3"
  }
 },
 "nbformat": 4,
 "nbformat_minor": 4
}
